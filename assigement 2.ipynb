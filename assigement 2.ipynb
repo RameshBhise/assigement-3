{
 "cells": [
  {
   "cell_type": "code",
   "execution_count": 1,
   "id": "dc41c6f4-0f87-4e87-a53a-aebf49e3f64d",
   "metadata": {},
   "outputs": [],
   "source": [
    "#question no 1"
   ]
  },
  {
   "cell_type": "code",
   "execution_count": 2,
   "id": "30d96259-81d0-4f41-80c1-b7b0c1f714cb",
   "metadata": {},
   "outputs": [
    {
     "name": "stdin",
     "output_type": "stream",
     "text": [
      "Enter the pracentage of stuent  98\n"
     ]
    },
    {
     "name": "stdout",
     "output_type": "stream",
     "text": [
      "grade is A\n"
     ]
    }
   ],
   "source": [
    "num= int (input (\"Enter the pracentage of stuent \"))\n",
    "if num> 90:\n",
    "    print(\"grade is A\")\n",
    "elif num>80 and num<=90:\n",
    "    print(\"grade is B\")\n",
    "elif num>=60 and num<= 80:\n",
    "    print(\"grade is C\")\n",
    "else:\n",
    "    print(\"grade is D\")"
   ]
  },
  {
   "cell_type": "code",
   "execution_count": 3,
   "id": "17ede8be-2c98-4e93-8475-6d39a828524f",
   "metadata": {},
   "outputs": [],
   "source": [
    "#  Question number 2"
   ]
  },
  {
   "cell_type": "code",
   "execution_count": 5,
   "id": "24caea1d-983b-44f2-9b75-ee22a34c7a48",
   "metadata": {},
   "outputs": [
    {
     "name": "stdin",
     "output_type": "stream",
     "text": [
      "Enter the cost price of bike 30000\n"
     ]
    },
    {
     "name": "stdout",
     "output_type": "stream",
     "text": [
      "taxes is 5%\n"
     ]
    }
   ],
   "source": [
    "n= int(input(\"Enter the cost price of bike\"))\n",
    "if n>100000:\n",
    "       print(\"taxes is 15%\")\n",
    "elif n>50000 and n<=100000:\n",
    "       print(\"taxes is 10%\")\n",
    "else :\n",
    "       print(\"taxes is 5%\") "
   ]
  },
  {
   "cell_type": "code",
   "execution_count": 6,
   "id": "459e0c9b-9fa0-4c6d-ae13-8019ea799168",
   "metadata": {},
   "outputs": [],
   "source": [
    "# Question number 3"
   ]
  },
  {
   "cell_type": "code",
   "execution_count": 2,
   "id": "64514c65-a5e5-49a0-a743-c0ff4c11ee14",
   "metadata": {},
   "outputs": [
    {
     "name": "stdin",
     "output_type": "stream",
     "text": [
      "enter the name of city Agra\n"
     ]
    },
    {
     "name": "stdout",
     "output_type": "stream",
     "text": [
      "Monument is Taj Mahal\n"
     ]
    }
   ],
   "source": [
    "city = input(\"enter the name of city\")\n",
    "if city.lower()=='delhi':\n",
    "    print(\"Monument is Red Fort\")\n",
    "elif city.lower() =='agra':\n",
    "    print(\"Monument is Taj Mahal\")\n",
    "elif city.lower() =='jaipur':\n",
    "    print(\"Monument isJai Mahal\")\n",
    "else:\n",
    "    print(\"Enter correct name of city\")"
   ]
  },
  {
   "cell_type": "code",
   "execution_count": 3,
   "id": "7f52e983-c9d5-4ade-a028-b3064b86f401",
   "metadata": {},
   "outputs": [],
   "source": [
    "# Question number 5"
   ]
  },
  {
   "cell_type": "code",
   "execution_count": 5,
   "id": "bcf799ce-ca84-4930-8cf8-642db9f9507c",
   "metadata": {},
   "outputs": [
    {
     "data": {
      "text/plain": [
       "'pythone while  lopp is used to run a blockscode until a certain condition is met \\nwhile condition :\\n    #body of the while loop'"
      ]
     },
     "execution_count": 5,
     "metadata": {},
     "output_type": "execute_result"
    }
   ],
   "source": [
    "\"\"\"pythone while  lopp is used to run a blockscode until a certain condition is met \n",
    "while condition :\n",
    "    #body of the while loop\"\"\""
   ]
  },
  {
   "cell_type": "code",
   "execution_count": 6,
   "id": "fa9f7801-97ed-42e0-9e65-490281dd27b2",
   "metadata": {},
   "outputs": [],
   "source": [
    "#Question number 6"
   ]
  },
  {
   "cell_type": "code",
   "execution_count": 27,
   "id": "346acb6c-58d3-4b45-b7d4-2a99b58bb8e8",
   "metadata": {},
   "outputs": [
    {
     "name": "stdin",
     "output_type": "stream",
     "text": [
      "Enter thr no of rows 6\n"
     ]
    },
    {
     "name": "stdout",
     "output_type": "stream",
     "text": [
      "*\n",
      "**\n",
      "***\n",
      "****\n",
      "*****\n",
      "******\n"
     ]
    }
   ],
   "source": [
    "n=int(input(\"Enter thr no of rows\"))\n",
    "i=1\n",
    "while i<=n:\n",
    "    j=1\n",
    "    while j <= i:\n",
    "        print(\"*\", end =\"\")\n",
    "        j+=1\n",
    "    print()\n",
    "    i+=1"
   ]
  },
  {
   "cell_type": "code",
   "execution_count": 28,
   "id": "ec7f6a73-7126-442f-acc1-57b69c73ea74",
   "metadata": {},
   "outputs": [
    {
     "name": "stdin",
     "output_type": "stream",
     "text": [
      "Enter thr no of rows 6\n"
     ]
    },
    {
     "name": "stdout",
     "output_type": "stream",
     "text": [
      "******\n",
      "*****\n",
      "****\n",
      "***\n",
      "**\n",
      "*\n"
     ]
    }
   ],
   "source": [
    "n=int(input(\"Enter thr no of rows\"))\n",
    "i=1\n",
    "while i<=n:\n",
    "    j=n\n",
    "    while j >= i:\n",
    "        print(\"*\", end =\"\")\n",
    "        j-=1\n",
    "    print()\n",
    "    i+=1"
   ]
  },
  {
   "cell_type": "code",
   "execution_count": 29,
   "id": "7cb094c5-930d-42cf-809b-25066d72481a",
   "metadata": {},
   "outputs": [
    {
     "name": "stdin",
     "output_type": "stream",
     "text": [
      "Enter thr no of rows 3\n"
     ]
    },
    {
     "name": "stdout",
     "output_type": "stream",
     "text": [
      "***\n",
      "**\n",
      "*\n"
     ]
    }
   ],
   "source": [
    "n=int(input(\"Enter thr no of rows\"))\n",
    "i=1\n",
    "while i<=n:\n",
    "    j=n\n",
    "    while j >= i:\n",
    "        print(\"*\", end =\"\")\n",
    "        j-=1\n",
    "    print()\n",
    "    i+=1"
   ]
  },
  {
   "cell_type": "code",
   "execution_count": 2,
   "id": "27c3c110-e5c2-4d69-91f7-d93a571f67f9",
   "metadata": {},
   "outputs": [
    {
     "name": "stdout",
     "output_type": "stream",
     "text": [
      "10\n",
      "9\n",
      "8\n",
      "7\n",
      "6\n",
      "5\n",
      "4\n",
      "3\n",
      "2\n",
      "1\n"
     ]
    }
   ],
   "source": [
    "#Question number 7 and 8\n",
    "i=10\n",
    "while i>0:\n",
    "    print(i)\n",
    "    i=i-1\n",
    "   "
   ]
  },
  {
   "cell_type": "code",
   "execution_count": null,
   "id": "4f371581-548d-4abe-91c1-d824cc4b9d89",
   "metadata": {},
   "outputs": [],
   "source": []
  }
 ],
 "metadata": {
  "kernelspec": {
   "display_name": "Python 3 (ipykernel)",
   "language": "python",
   "name": "python3"
  },
  "language_info": {
   "codemirror_mode": {
    "name": "ipython",
    "version": 3
   },
   "file_extension": ".py",
   "mimetype": "text/x-python",
   "name": "python",
   "nbconvert_exporter": "python",
   "pygments_lexer": "ipython3",
   "version": "3.10.8"
  }
 },
 "nbformat": 4,
 "nbformat_minor": 5
}
